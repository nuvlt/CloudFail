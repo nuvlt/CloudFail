{
  "cells": [
    {
      "cell_type": "code",
      "execution_count": 1,
      "metadata": {
        "id": "VjYy0F2gZIPR",
        "outputId": "65629ceb-e796-4dec-c99e-48812cd8947a",
        "colab": {
          "base_uri": "https://localhost:8080/"
        }
      },
      "outputs": [
        {
          "output_type": "stream",
          "name": "stdout",
          "text": [
            "Collecting pygit2==1.15.1\n",
            "  Downloading pygit2-1.15.1-cp311-cp311-manylinux_2_17_x86_64.manylinux2014_x86_64.whl.metadata (3.3 kB)\n",
            "Requirement already satisfied: cffi>=1.16.0 in /usr/local/lib/python3.11/dist-packages (from pygit2==1.15.1) (1.17.1)\n",
            "Requirement already satisfied: pycparser in /usr/local/lib/python3.11/dist-packages (from cffi>=1.16.0->pygit2==1.15.1) (2.22)\n",
            "Downloading pygit2-1.15.1-cp311-cp311-manylinux_2_17_x86_64.manylinux2014_x86_64.whl (5.1 MB)\n",
            "\u001b[?25l   \u001b[90m━━━━━━━━━━━━━━━━━━━━━━━━━━━━━━━━━━━━━━━━\u001b[0m \u001b[32m0.0/5.1 MB\u001b[0m \u001b[31m?\u001b[0m eta \u001b[36m-:--:--\u001b[0m\r\u001b[2K   \u001b[91m━━━━━━\u001b[0m\u001b[90m╺\u001b[0m\u001b[90m━━━━━━━━━━━━━━━━━━━━━━━━━━━━━━━━━\u001b[0m \u001b[32m0.8/5.1 MB\u001b[0m \u001b[31m25.4 MB/s\u001b[0m eta \u001b[36m0:00:01\u001b[0m\r\u001b[2K   \u001b[91m━━━━━━━━━━━━━━━━━━━━━━━━━━━━━━━\u001b[0m\u001b[91m╸\u001b[0m\u001b[90m━━━━━━━━\u001b[0m \u001b[32m4.1/5.1 MB\u001b[0m \u001b[31m57.0 MB/s\u001b[0m eta \u001b[36m0:00:01\u001b[0m\r\u001b[2K   \u001b[91m━━━━━━━━━━━━━━━━━━━━━━━━━━━━━━━━━━━━━━━\u001b[0m\u001b[91m╸\u001b[0m \u001b[32m5.1/5.1 MB\u001b[0m \u001b[31m58.4 MB/s\u001b[0m eta \u001b[36m0:00:01\u001b[0m\r\u001b[2K   \u001b[90m━━━━━━━━━━━━━━━━━━━━━━━━━━━━━━━━━━━━━━━━\u001b[0m \u001b[32m5.1/5.1 MB\u001b[0m \u001b[31m43.9 MB/s\u001b[0m eta \u001b[36m0:00:00\u001b[0m\n",
            "\u001b[?25hInstalling collected packages: pygit2\n",
            "  Attempting uninstall: pygit2\n",
            "    Found existing installation: pygit2 1.17.0\n",
            "    Uninstalling pygit2-1.17.0:\n",
            "      Successfully uninstalled pygit2-1.17.0\n",
            "Successfully installed pygit2-1.15.1\n",
            "/content\n",
            "Cloning into 'Fooocus'...\n",
            "remote: Enumerating objects: 6725, done.\u001b[K\n",
            "remote: Counting objects: 100% (1308/1308), done.\u001b[K\n",
            "remote: Compressing objects: 100% (149/149), done.\u001b[K\n",
            "remote: Total 6725 (delta 1249), reused 1159 (delta 1159), pack-reused 5417 (from 1)\u001b[K\n",
            "Receiving objects: 100% (6725/6725), 33.19 MiB | 31.38 MiB/s, done.\n",
            "Resolving deltas: 100% (3929/3929), done.\n",
            "/content/Fooocus\n"
          ]
        }
      ],
      "source": [
        "!pip install pygit2==1.15.1\n",
        "%cd /content\n",
        "!git clone https://github.com/lllyasviel/Fooocus.git\n",
        "%cd /content/Fooocus\n",
        "\n"
      ]
    },
    {
      "cell_type": "code",
      "source": [
        "!wget -O /content/Fooocus/models/checkpoints/realism_engine_sdxl.safetensors https://huggingface.co/RazzzHF/realismEngineSDXL/resolve/main/RealismEngineSDXL_V2.0_FP16_VAE.safetensors?download=true"
      ],
      "metadata": {
        "id": "G0Oq5swZ5jWa",
        "outputId": "edd8d808-3901-4224-9337-d6591da051bb",
        "colab": {
          "base_uri": "https://localhost:8080/"
        }
      },
      "execution_count": 2,
      "outputs": [
        {
          "output_type": "stream",
          "name": "stdout",
          "text": [
            "--2025-04-20 06:34:31--  https://huggingface.co/RazzzHF/realismEngineSDXL/resolve/main/RealismEngineSDXL_V2.0_FP16_VAE.safetensors?download=true\n",
            "Resolving huggingface.co (huggingface.co)... 3.163.189.37, 3.163.189.74, 3.163.189.90, ...\n",
            "Connecting to huggingface.co (huggingface.co)|3.163.189.37|:443... connected.\n",
            "HTTP request sent, awaiting response... 302 Found\n",
            "Location: https://cdn-lfs.hf.co/repos/54/46/544630403aa325b563ea4ca9643cb28ac473c889c25451f6e9e48514215cb026/92957019b4867ec45d159ff2cb2233885580f27b2626a7f2c720564aa63910db?response-content-disposition=attachment%3B+filename*%3DUTF-8%27%27RealismEngineSDXL_V2.0_FP16_VAE.safetensors%3B+filename%3D%22RealismEngineSDXL_V2.0_FP16_VAE.safetensors%22%3B&Expires=1745134471&Policy=eyJTdGF0ZW1lbnQiOlt7IkNvbmRpdGlvbiI6eyJEYXRlTGVzc1RoYW4iOnsiQVdTOkVwb2NoVGltZSI6MTc0NTEzNDQ3MX19LCJSZXNvdXJjZSI6Imh0dHBzOi8vY2RuLWxmcy5oZi5jby9yZXBvcy81NC80Ni81NDQ2MzA0MDNhYTMyNWI1NjNlYTRjYTk2NDNjYjI4YWM0NzNjODg5YzI1NDUxZjZlOWU0ODUxNDIxNWNiMDI2LzkyOTU3MDE5YjQ4NjdlYzQ1ZDE1OWZmMmNiMjIzMzg4NTU4MGYyN2IyNjI2YTdmMmM3MjA1NjRhYTYzOTEwZGI%7EcmVzcG9uc2UtY29udGVudC1kaXNwb3NpdGlvbj0qIn1dfQ__&Signature=e5vig3b3wv7ShBjkXQGjeheyvXE62h5-pS4o8AOXXR74D1EDxTnXUZgzLjg-YJVnKiqMHpOvsDCt4TLXxg4s-y5cMUD5hiOpb22JKfk72lBLqnpxtSiPgvSkywDzJXKVuJ-I7Vx8pINbTLbcFUOYu01q%7Ef9E80rqxVJOXRa3gxKeFXKbUSChPe1kW6-ldnXXTxk37X%7EOvSAbAQKd-2d39JTo7w7At0QzJOndbvrCeYjlKuS9tO1iPgtXWqN34hw9N1LBJsEUpYa6zQv-4eHF3GIbjzJSDAusTJDgZ6PaOPUV3W%7EXxr%7EEcWaZdUITfkz4R0Es6Tz43GRchQiYHjv9Wg__&Key-Pair-Id=K3RPWS32NSSJCE [following]\n",
            "--2025-04-20 06:34:31--  https://cdn-lfs.hf.co/repos/54/46/544630403aa325b563ea4ca9643cb28ac473c889c25451f6e9e48514215cb026/92957019b4867ec45d159ff2cb2233885580f27b2626a7f2c720564aa63910db?response-content-disposition=attachment%3B+filename*%3DUTF-8%27%27RealismEngineSDXL_V2.0_FP16_VAE.safetensors%3B+filename%3D%22RealismEngineSDXL_V2.0_FP16_VAE.safetensors%22%3B&Expires=1745134471&Policy=eyJTdGF0ZW1lbnQiOlt7IkNvbmRpdGlvbiI6eyJEYXRlTGVzc1RoYW4iOnsiQVdTOkVwb2NoVGltZSI6MTc0NTEzNDQ3MX19LCJSZXNvdXJjZSI6Imh0dHBzOi8vY2RuLWxmcy5oZi5jby9yZXBvcy81NC80Ni81NDQ2MzA0MDNhYTMyNWI1NjNlYTRjYTk2NDNjYjI4YWM0NzNjODg5YzI1NDUxZjZlOWU0ODUxNDIxNWNiMDI2LzkyOTU3MDE5YjQ4NjdlYzQ1ZDE1OWZmMmNiMjIzMzg4NTU4MGYyN2IyNjI2YTdmMmM3MjA1NjRhYTYzOTEwZGI%7EcmVzcG9uc2UtY29udGVudC1kaXNwb3NpdGlvbj0qIn1dfQ__&Signature=e5vig3b3wv7ShBjkXQGjeheyvXE62h5-pS4o8AOXXR74D1EDxTnXUZgzLjg-YJVnKiqMHpOvsDCt4TLXxg4s-y5cMUD5hiOpb22JKfk72lBLqnpxtSiPgvSkywDzJXKVuJ-I7Vx8pINbTLbcFUOYu01q%7Ef9E80rqxVJOXRa3gxKeFXKbUSChPe1kW6-ldnXXTxk37X%7EOvSAbAQKd-2d39JTo7w7At0QzJOndbvrCeYjlKuS9tO1iPgtXWqN34hw9N1LBJsEUpYa6zQv-4eHF3GIbjzJSDAusTJDgZ6PaOPUV3W%7EXxr%7EEcWaZdUITfkz4R0Es6Tz43GRchQiYHjv9Wg__&Key-Pair-Id=K3RPWS32NSSJCE\n",
            "Resolving cdn-lfs.hf.co (cdn-lfs.hf.co)... 18.238.217.113, 18.238.217.63, 18.238.217.120, ...\n",
            "Connecting to cdn-lfs.hf.co (cdn-lfs.hf.co)|18.238.217.113|:443... connected.\n",
            "HTTP request sent, awaiting response... 200 OK\n",
            "Length: 6939220250 (6.5G) [binary/octet-stream]\n",
            "Saving to: ‘/content/Fooocus/models/checkpoints/realism_engine_sdxl.safetensors’\n",
            "\n",
            "/content/Fooocus/mo 100%[===================>]   6.46G  76.6MB/s    in 88s     \n",
            "\n",
            "2025-04-20 06:35:59 (75.1 MB/s) - ‘/content/Fooocus/models/checkpoints/realism_engine_sdxl.safetensors’ saved [6939220250/6939220250]\n",
            "\n"
          ]
        }
      ]
    },
    {
      "cell_type": "code",
      "source": [
        "!python entry_with_update.py --share --always-high-vram"
      ],
      "metadata": {
        "id": "wmjQaJy_7HmF",
        "outputId": "53f65147-5af7-42f3-d124-2a128cf13823",
        "colab": {
          "base_uri": "https://localhost:8080/"
        }
      },
      "execution_count": null,
      "outputs": [
        {
          "output_type": "stream",
          "name": "stdout",
          "text": [
            "Already up-to-date\n",
            "Update succeeded.\n",
            "[System ARGV] ['entry_with_update.py', '--share', '--always-high-vram']\n",
            "Python 3.11.12 (main, Apr  9 2025, 08:55:54) [GCC 11.4.0]\n",
            "Fooocus version: 2.5.5\n",
            "Error checking version for torchsde: No package metadata was found for torchsde\n",
            "Installing requirements\n",
            "[Cleanup] Attempting to delete content of temp dir /tmp/fooocus\n",
            "[Cleanup] Cleanup successful\n",
            "Downloading: \"https://huggingface.co/lllyasviel/misc/resolve/main/xlvaeapp.pth\" to /content/Fooocus/models/vae_approx/xlvaeapp.pth\n",
            "\n",
            "100% 209k/209k [00:00<00:00, 10.6MB/s]\n",
            "Downloading: \"https://huggingface.co/lllyasviel/misc/resolve/main/vaeapp_sd15.pt\" to /content/Fooocus/models/vae_approx/vaeapp_sd15.pth\n",
            "\n",
            "100% 209k/209k [00:00<00:00, 10.2MB/s]\n",
            "Downloading: \"https://huggingface.co/mashb1t/misc/resolve/main/xl-to-v1_interposer-v4.0.safetensors\" to /content/Fooocus/models/vae_approx/xl-to-v1_interposer-v4.0.safetensors\n",
            "\n",
            "100% 5.40M/5.40M [00:00<00:00, 87.0MB/s]\n",
            "Downloading: \"https://huggingface.co/lllyasviel/misc/resolve/main/fooocus_expansion.bin\" to /content/Fooocus/models/prompt_expansion/fooocus_expansion/pytorch_model.bin\n",
            "\n",
            "100% 335M/335M [00:00<00:00, 382MB/s]\n",
            "Downloading: \"https://huggingface.co/lllyasviel/fav_models/resolve/main/fav/juggernautXL_v8Rundiffusion.safetensors\" to /content/Fooocus/models/checkpoints/juggernautXL_v8Rundiffusion.safetensors\n",
            "\n",
            "100% 6.62G/6.62G [00:47<00:00, 151MB/s]\n",
            "Downloading: \"https://huggingface.co/stabilityai/stable-diffusion-xl-base-1.0/resolve/main/sd_xl_offset_example-lora_1.0.safetensors\" to /content/Fooocus/models/loras/sd_xl_offset_example-lora_1.0.safetensors\n",
            "\n",
            "100% 47.3M/47.3M [00:00<00:00, 79.2MB/s]\n",
            "Total VRAM 15095 MB, total RAM 12978 MB\n",
            "Set vram state to: HIGH_VRAM\n",
            "Always offload VRAM\n",
            "Device: cuda:0 Tesla T4 : native\n",
            "VAE dtype: torch.float32\n",
            "Using pytorch cross attention\n",
            "Refiner unloaded.\n",
            "IMPORTANT: You are using gradio version 3.41.2, however version 4.44.1 is available, please upgrade.\n",
            "--------\n",
            "Running on local URL:  http://127.0.0.1:7865\n",
            "Running on public URL: https://98abb54b3a9f58e6d1.gradio.live\n",
            "\n",
            "This share link expires in 72 hours. For free permanent hosting and GPU upgrades, run `gradio deploy` from Terminal to deploy to Spaces (https://huggingface.co/spaces)\n",
            "model_type EPS\n",
            "UNet ADM Dimension 2816\n",
            "Using pytorch attention in VAE\n",
            "Working with z of shape (1, 4, 32, 32) = 4096 dimensions.\n",
            "Using pytorch attention in VAE\n",
            "extra {'cond_stage_model.clip_l.logit_scale', 'cond_stage_model.clip_l.text_projection'}\n",
            "left over keys: dict_keys(['cond_stage_model.clip_l.transformer.text_model.embeddings.position_ids'])\n",
            "loaded straight to GPU\n",
            "Requested to load SDXL\n",
            "Loading 1 new model\n",
            "Base model loaded: /content/Fooocus/models/checkpoints/juggernautXL_v8Rundiffusion.safetensors\n",
            "VAE loaded: None\n",
            "Request to load LoRAs [('sd_xl_offset_example-lora_1.0.safetensors', 0.1)] for model [/content/Fooocus/models/checkpoints/juggernautXL_v8Rundiffusion.safetensors].\n",
            "Loaded LoRA [/content/Fooocus/models/loras/sd_xl_offset_example-lora_1.0.safetensors] for UNet [/content/Fooocus/models/checkpoints/juggernautXL_v8Rundiffusion.safetensors] with 788 keys at weight 0.1.\n",
            "Fooocus V2 Expansion: Vocab with 642 words.\n",
            "Fooocus Expansion engine loaded for cuda:0, use_fp16 = True.\n",
            "Requested to load SDXLClipModel\n",
            "Requested to load GPT2LMHeadModel\n",
            "Loading 2 new models\n",
            "[Fooocus Model Management] Moving model(s) has taken 0.64 seconds\n",
            "2025-04-20 06:44:35.886756: E external/local_xla/xla/stream_executor/cuda/cuda_fft.cc:477] Unable to register cuFFT factory: Attempting to register factory for plugin cuFFT when one has already been registered\n",
            "WARNING: All log messages before absl::InitializeLog() is called are written to STDERR\n",
            "E0000 00:00:1745131476.125000    3248 cuda_dnn.cc:8310] Unable to register cuDNN factory: Attempting to register factory for plugin cuDNN when one has already been registered\n",
            "E0000 00:00:1745131476.188416    3248 cuda_blas.cc:1418] Unable to register cuBLAS factory: Attempting to register factory for plugin cuBLAS when one has already been registered\n",
            "2025-04-20 06:44:36.714531: I tensorflow/core/platform/cpu_feature_guard.cc:210] This TensorFlow binary is optimized to use available CPU instructions in performance-critical operations.\n",
            "To enable the following instructions: AVX2 FMA, in other operations, rebuild TensorFlow with the appropriate compiler flags.\n",
            "Started worker with PID 2172\n",
            "App started successful. Use the app with http://127.0.0.1:7865/ or 127.0.0.1:7865 or https://98abb54b3a9f58e6d1.gradio.live\n",
            "[Parameters] Adaptive CFG = 7\n",
            "[Parameters] CLIP Skip = 2\n",
            "[Parameters] Sharpness = 2\n",
            "[Parameters] ControlNet Softness = 0.25\n",
            "[Parameters] ADM Scale = 1.5 : 0.8 : 0.3\n",
            "[Parameters] Seed = 1721407489645294917\n",
            "[Parameters] CFG = 4\n",
            "[Fooocus] Loading control models ...\n",
            "[Parameters] Sampler = dpmpp_2m_sde_gpu - karras\n",
            "[Parameters] Steps = 30 - 15\n",
            "[Fooocus] Initializing ...\n",
            "[Fooocus] Loading models ...\n",
            "Refiner unloaded.\n",
            "model_type EPS\n",
            "UNet ADM Dimension 2816\n",
            "Using pytorch attention in VAE\n",
            "Working with z of shape (1, 4, 32, 32) = 4096 dimensions.\n",
            "Using pytorch attention in VAE\n",
            "extra {'cond_stage_model.clip_l.logit_scale', 'cond_stage_model.clip_l.text_projection'}\n",
            "left over keys: dict_keys(['conditioner.embedders.0.logit_scale', 'conditioner.embedders.0.text_projection'])\n",
            "loaded straight to GPU\n",
            "Requested to load SDXL\n",
            "Loading 1 new model\n",
            "[Fooocus Model Management] Moving model(s) has taken 1.72 seconds\n",
            "Base model loaded: /content/Fooocus/models/checkpoints/realism_engine_sdxl.safetensors\n",
            "VAE loaded: None\n",
            "Request to load LoRAs [] for model [/content/Fooocus/models/checkpoints/realism_engine_sdxl.safetensors].\n",
            "Requested to load SDXLClipModel\n",
            "Requested to load GPT2LMHeadModel\n",
            "Loading 2 new models\n",
            "[Fooocus Model Management] Moving model(s) has taken 0.90 seconds\n",
            "[Fooocus] Processing prompts ...\n",
            "[Fooocus] Preparing Fooocus text #1 ...\n",
            "[Prompt Expansion] A hyper-realistic, ultra-detailed full-body front-view depiction of Adriana Lima with no expression. She has a height of 173 cm, an ample chest with a naturally full bust (34F), a defined waist, and balanced hips. Her long, well-structured legs maintain their natural shape. Her dark brown hair is styled in a messy bun, with a few loose strands framing her face. Her flawless skin is illuminated by soft, even lighting, enhancing her natural contours without harsh shadows. She is wearing a soft bra and thong. Pose: She stands in a true full-body, head-to-toe, wide-framed, front-facing pose, ensuring her feet are flat on the ground and her entire physique from head to feet is fully visible without cropping. The camera is set at a neutral height, directly in front of her, capturing her entire height in a single frame. The background is plain and neutral, ensuring full focus on her body proportions. The soft, natural lighting enhances depth and realism while avoiding extreme contrast. Shot in HDR 4K, ultra-detailed textures, extreme photorealism, cinematic quality, with true-to-life proportions and no distortion, sharp, stunning, aesthetic, very inspirational, intricate, beautiful, innocent, symmetry, radiant, rich deep colors, perfect balance, dynamic dramatic, detailed, attractive, delicate, creative, elegant, luxury, gorgeous, fabulous, elaborate, complex\n",
            "[Fooocus] Preparing Fooocus text #2 ...\n",
            "[Prompt Expansion] A hyper-realistic, ultra-detailed full-body front-view depiction of Adriana Lima with no expression. She has a height of 173 cm, an ample chest with a naturally full bust (34F), a defined waist, and balanced hips. Her long, well-structured legs maintain their natural shape. Her dark brown hair is styled in a messy bun, with a few loose strands framing her face. Her flawless skin is illuminated by soft, even lighting, enhancing her natural contours without harsh shadows. She is wearing a soft bra and thong. Pose: She stands in a true full-body, head-to-toe, wide-framed, front-facing pose, ensuring her feet are flat on the ground and her entire physique from head to feet is fully visible without cropping. The camera is set at a neutral height, directly in front of her, capturing her entire height in a single frame. The background is plain and neutral, ensuring full focus on her body proportions. The soft, natural lighting enhances depth and realism while avoiding extreme contrast. Shot in HDR 4K, ultra-detailed textures, extreme photorealism, cinematic quality, with true-to-life proportions and no distortion, stunning, aesthetic, very inspirational, intricate, elegant, real colors, highly detailed, clear, cute, magical, creative, positive, pure, rational, joyful, thought, perfect, romantic, beautiful, pretty, friendly, innocent, atmosphere\n",
            "[Fooocus] Encoding positive #1 ...\n",
            "[Fooocus Model Management] Moving model(s) has taken 0.12 seconds\n",
            "[Fooocus] Encoding positive #2 ...\n",
            "[Fooocus] Encoding negative #1 ...\n",
            "[Fooocus] Encoding negative #2 ...\n",
            "[Parameters] Denoising Strength = 1.0\n",
            "[Parameters] Initial Latent shape: Image Space (896, 1152)\n",
            "Preparation time: 43.44 seconds\n",
            "Using karras scheduler.\n",
            "[Fooocus] Preparing task 1/2 ...\n",
            "[Sampler] refiner_swap_method = joint\n",
            "[Sampler] sigma_min = 0.0291671771556139, sigma_max = 14.614643096923828\n",
            "Requested to load SDXL\n",
            "Loading 1 new model\n",
            "[Fooocus Model Management] Moving model(s) has taken 0.74 seconds\n",
            "100% 30/30 [00:26<00:00,  1.13it/s]\n",
            "Requested to load AutoencoderKL\n",
            "Loading 1 new model\n",
            "[Fooocus Model Management] Moving model(s) has taken 0.17 seconds\n",
            "[Fooocus] Saving image 1/2 to system ...\n",
            "Image generated with private log at: /content/Fooocus/outputs/2025-04-20/log.html\n",
            "Generating and saving time: 30.02 seconds\n",
            "[Fooocus] Preparing task 2/2 ...\n",
            "[Sampler] refiner_swap_method = joint\n",
            "[Sampler] sigma_min = 0.0291671771556139, sigma_max = 14.614643096923828\n",
            "Requested to load SDXL\n",
            "Loading 1 new model\n",
            "[Fooocus Model Management] Moving model(s) has taken 0.17 seconds\n",
            "100% 30/30 [00:26<00:00,  1.13it/s]\n",
            "Requested to load AutoencoderKL\n",
            "Loading 1 new model\n",
            "[Fooocus Model Management] Moving model(s) has taken 0.13 seconds\n",
            "[Fooocus] Saving image 2/2 to system ...\n",
            "Image generated with private log at: /content/Fooocus/outputs/2025-04-20/log.html\n",
            "Generating and saving time: 29.46 seconds\n",
            "[Enhance] Skipping, preconditions aren't met\n",
            "Processing time (total): 59.48 seconds\n",
            "Requested to load SDXLClipModel\n",
            "Requested to load GPT2LMHeadModel\n",
            "Loading 2 new models\n",
            "Total time: 102.96 seconds\n",
            "[Fooocus Model Management] Moving model(s) has taken 0.84 seconds\n"
          ]
        }
      ]
    }
  ],
  "metadata": {
    "accelerator": "GPU",
    "colab": {
      "gpuType": "T4",
      "provenance": []
    },
    "kernelspec": {
      "display_name": "Python 3",
      "name": "python3"
    },
    "language_info": {
      "name": "python"
    }
  },
  "nbformat": 4,
  "nbformat_minor": 0
}